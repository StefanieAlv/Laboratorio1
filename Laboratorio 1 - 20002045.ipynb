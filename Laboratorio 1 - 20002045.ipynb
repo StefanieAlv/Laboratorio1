{
 "cells": [
  {
   "cell_type": "markdown",
   "metadata": {},
   "source": [
    "## Laboratorio # 1"
   ]
  },
  {
   "cell_type": "markdown",
   "metadata": {},
   "source": [
    "Stefanie M. Alvarez - 20002045"
   ]
  },
  {
   "cell_type": "markdown",
   "metadata": {},
   "source": [
    "#### Entregable: Su entregable deberá ser un link al repositorio de git que contiene el Jupyter Notebook donde resolvió los ejercicios planteados."
   ]
  },
  {
   "cell_type": "markdown",
   "metadata": {},
   "source": [
    "### Parte #1 - (Programación Orientada a Objetos):"
   ]
  },
  {
   "cell_type": "markdown",
   "metadata": {},
   "source": [
    "Genere una clase llamada ?my regresion? en Python puro (sin utilizar ninguna librería) que sea capaz de encontrar de forma analítica los coeficientes de una regresión lineal (β0 y β1). Su clase debe poseer los siguientes campos: β0, β1 los cuales representan los parámetros de la regresión, X y Y los cuales representan la lista de valores con los que se calcularon los parámetros de la regresión. Adicionalmente su clase debe poseer los siguientes métodos:"
   ]
  },
  {
   "cell_type": "markdown",
   "metadata": {},
   "source": [
    "Instrucciones: Constructor Principal: Este constructor debe poseer la siguiente forma init (self, x, y) donde X y Y son listas de números con la misma cantidad de elementos. A partir de este constructor usted deberá calcular los parámetros β0 y β1 puede usar las siguientes ecuaciones para este cálculo:"
   ]
  },
  {
   "cell_type": "code",
   "execution_count": 220,
   "metadata": {},
   "outputs": [],
   "source": [
    "import math\n",
    "class Regresion():\n",
    "    \n",
    "    def __init__ (self, numero, TotalX, TotalY, TotalX2, TotalXY, TotalX_2, val, PromedioY):\n",
    "        self.valorN = numero #10\n",
    "        self.sumX = TotalX #316\n",
    "        self.sumY = TotalY #252\n",
    "        self.sumX2 = TotalX2 #11,140\n",
    "        self.sumXY = TotalXY #7328\n",
    "        self.sumX_2 = TotalX_2 #99,856\n",
    "        self.x = val #20\n",
    "        self.promY = PromedioY #22.91\n",
    "           \n",
    "    def b0(self):\n",
    "        self.beta0 = (((self.valorN*self.sumXY)-(self.sumX*self.sumY))/((self.valorN*self.sumX2)-(self.sumX_2)))\n",
    "        \n",
    "    def b1(self):\n",
    "        self.beta1 = (((self.valorN*self.sumX2*self.sumY)-(self.sumX*self.sumXY))/((self.valorN*self.sumX2)-(self.sumX_2)))\n",
    "        \n",
    "    def predict (self, val):\n",
    "        self.y_pred1 = self.beta0 + self.beta1*self.x\n",
    "    \n",
    "    def predictN (self):\n",
    "        self.y_predN = self.beta0 + self.beta1*self.sumX\n",
    "        \n",
    "    def r2(self):\n",
    "        self.R2 = (self.y_predN-self.promY)/(self.y_predN-self.sumY)\n",
    "        \n",
    "    def Rraiz(self):\n",
    "        self.raizR = math.sqrt(self.R2)\n",
    "    \n",
    "    def getAllParams(self):\n",
    "        self.Diccionario = {self.valorN, self.sumX, self.sumY, self.sumX2, self.sumXY, self.sumX_2, self.x, self.promY}"
   ]
  },
  {
   "cell_type": "code",
   "execution_count": 221,
   "metadata": {},
   "outputs": [],
   "source": [
    "Ejercicio = Regresion(10, 316, 252, 11140, 7328, 99856, 20, 22.91)"
   ]
  },
  {
   "cell_type": "code",
   "execution_count": 222,
   "metadata": {},
   "outputs": [],
   "source": [
    "Ejercicio.b0()\n",
    "Ejercicio.b1()"
   ]
  },
  {
   "cell_type": "code",
   "execution_count": 223,
   "metadata": {},
   "outputs": [
    {
     "data": {
      "text/plain": [
       "-0.5502425502425502"
      ]
     },
     "execution_count": 223,
     "metadata": {},
     "output_type": "execute_result"
    }
   ],
   "source": [
    "Ejercicio.beta0"
   ]
  },
  {
   "cell_type": "code",
   "execution_count": 224,
   "metadata": {},
   "outputs": [
    {
     "data": {
      "text/plain": [
       "2231.2155232155233"
      ]
     },
     "execution_count": 224,
     "metadata": {},
     "output_type": "execute_result"
    }
   ],
   "source": [
    "Ejercicio.beta1"
   ]
  },
  {
   "cell_type": "markdown",
   "metadata": {},
   "source": [
    "Instrucciones: Método Predict(val): Este método devuelve la predicción de la regresión aplicada sobre el valor que recibe como parámetro.Ejercicio = Regresion(10, 316, 252, 11140, 7328, 99856)"
   ]
  },
  {
   "cell_type": "code",
   "execution_count": 225,
   "metadata": {},
   "outputs": [],
   "source": [
    "Ejercicio.predict(20)"
   ]
  },
  {
   "cell_type": "code",
   "execution_count": 226,
   "metadata": {},
   "outputs": [
    {
     "data": {
      "text/plain": [
       "44623.760221760225"
      ]
     },
     "execution_count": 226,
     "metadata": {},
     "output_type": "execute_result"
    }
   ],
   "source": [
    "Ejercicio.y_pred1"
   ]
  },
  {
   "cell_type": "markdown",
   "metadata": {},
   "source": [
    "Instrucciones: Método PredictN(vals): Este método devuelve la predicción de la regresión aplicada sobre una lista de valores que recibe como paráEjercicio.predict(20)metro."
   ]
  },
  {
   "cell_type": "code",
   "execution_count": 227,
   "metadata": {},
   "outputs": [],
   "source": [
    "Ejercicio.predictN()"
   ]
  },
  {
   "cell_type": "code",
   "execution_count": 228,
   "metadata": {},
   "outputs": [
    {
     "data": {
      "text/plain": [
       "705063.5550935551"
      ]
     },
     "execution_count": 228,
     "metadata": {},
     "output_type": "execute_result"
    }
   ],
   "source": [
    "Ejercicio.y_predN"
   ]
  },
  {
   "cell_type": "markdown",
   "metadata": {},
   "source": [
    "Instrucciones: Método r2(): Este método calcula el r2 (coeficiente de determinación) de la regresión."
   ]
  },
  {
   "cell_type": "code",
   "execution_count": 229,
   "metadata": {},
   "outputs": [],
   "source": [
    "Ejercicio.r2()"
   ]
  },
  {
   "cell_type": "code",
   "execution_count": 230,
   "metadata": {},
   "outputs": [
    {
     "data": {
      "text/plain": [
       "1.0003250372363284"
      ]
     },
     "execution_count": 230,
     "metadata": {},
     "output_type": "execute_result"
    }
   ],
   "source": [
    "Ejercicio.R2"
   ]
  },
  {
   "cell_type": "markdown",
   "metadata": {},
   "source": [
    "Instrucciones: Método r(): Este método devuelve el coeficiente de correlación el cual se calcula como la raíz cuadrada del coeficiente de determinación."
   ]
  },
  {
   "cell_type": "code",
   "execution_count": 231,
   "metadata": {},
   "outputs": [],
   "source": [
    "Ejercicio.Rraiz()"
   ]
  },
  {
   "cell_type": "code",
   "execution_count": 232,
   "metadata": {},
   "outputs": [
    {
     "data": {
      "text/plain": [
       "1.0001625054141594"
      ]
     },
     "execution_count": 232,
     "metadata": {},
     "output_type": "execute_result"
    }
   ],
   "source": [
    "Ejercicio.raizR"
   ]
  },
  {
   "cell_type": "markdown",
   "metadata": {},
   "source": [
    "Instrucciones: Método getAllRegParams(): Este método devuelve un diccionario con todos los parámetros y estadísticos de la regresión lineal."
   ]
  },
  {
   "cell_type": "code",
   "execution_count": 233,
   "metadata": {},
   "outputs": [],
   "source": [
    "Ejercicio.getAllParams()"
   ]
  },
  {
   "cell_type": "code",
   "execution_count": 234,
   "metadata": {},
   "outputs": [
    {
     "data": {
      "text/plain": [
       "{10, 20, 22.91, 252, 316, 7328, 11140, 99856}"
      ]
     },
     "execution_count": 234,
     "metadata": {},
     "output_type": "execute_result"
    }
   ],
   "source": [
    "Ejercicio.Diccionario"
   ]
  }
 ],
 "metadata": {
  "kernelspec": {
   "display_name": "Python 3",
   "language": "python",
   "name": "python3"
  },
  "language_info": {
   "codemirror_mode": {
    "name": "ipython",
    "version": 3
   },
   "file_extension": ".py",
   "mimetype": "text/x-python",
   "name": "python",
   "nbconvert_exporter": "python",
   "pygments_lexer": "ipython3",
   "version": "3.8.5"
  }
 },
 "nbformat": 4,
 "nbformat_minor": 4
}
